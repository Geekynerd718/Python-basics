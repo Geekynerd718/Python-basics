{
  "nbformat": 4,
  "nbformat_minor": 0,
  "metadata": {
    "colab": {
      "provenance": []
    },
    "kernelspec": {
      "name": "python3",
      "display_name": "Python 3"
    },
    "language_info": {
      "name": "python"
    }
  },
  "cells": [
    {
      "cell_type": "markdown",
      "source": [
        "#Python Basics Questions\n"
      ],
      "metadata": {
        "id": "kQokn8EhIKQb"
      }
    },
    {
      "cell_type": "markdown",
      "source": [
        "**Q**.1 What is Python, and why is it popular?\n",
        "***Ans*** - Python is like the Swiss Army knife of programming languages—simple, handy, and versatile. It’s designed to be beginner-friendly, with code that looks a lot like plain English, so you don’t feel like you’re deciphering hieroglyphics.\n",
        "It’s popular because it’s reliable and has a huge support system. Think of it like joining a massive club where someone has already figured out solutions to most of your problems—and shared them too, in the form of libraries and tools."
      ],
      "metadata": {
        "id": "teKTS7-2IUTW"
      }
    },
    {
      "cell_type": "markdown",
      "source": [
        "**Q**.2 What is an interpreter in Python?\n",
        "**Ans** - Think of a Python interpreter as your own personal translator. Imagine you’ve written some instructions in Python (your code). The interpreter takes those instructions, one line at a time, and “translates” them into a language your computer can understand and follow—kind of like giving directions to someone who doesn’t speak your language."
      ],
      "metadata": {
        "id": "pTbJ5lMGJDlA"
      }
    },
    {
      "cell_type": "markdown",
      "source": [
        "**Q**.3 What are pre-defined keywords in Python?\n",
        "**Ans** - Pre-defined keywords in Python are like the \"reserved words\" of the Python language. They’re special words that Python already understands and has a specific purpose for. You can think of them as part of Python’s vocabulary, and they come with built-in meaning.\n",
        "some of the examples are (if, else, while, for, def, class, import, try, except, return, true, false, none, etc).\n"
      ],
      "metadata": {
        "id": "M2mgpPRtJ3l-"
      }
    },
    {
      "cell_type": "markdown",
      "source": [
        "**Q**.4 Can keywords be used as variable names?\n",
        "**Ans** - Nope, keywords can’t be used as variable names in Python."
      ],
      "metadata": {
        "id": "iuAIHrNdKmeR"
      }
    },
    {
      "cell_type": "markdown",
      "source": [
        "**Q**.5 What is mutability in Python?\n",
        "**Ans** - Objects/Containers whose state or value can be changed after they are created are called as mutable objects or containers. List is a type of mutable object."
      ],
      "metadata": {
        "id": "ji_RVQZzK8SQ"
      }
    },
    {
      "cell_type": "markdown",
      "source": [
        "**Q**.6 Why are lists mutable, but tuples are immutable?\n",
        "**Ans** - Think of a list as a notebook where you can scribble, erase, and rewrite notes as often as you like—it's flexible and changeable (or mutable, in programming terms). You can add, remove, or update the items in a list whenever you need to.\n",
        "Now, imagine a tuple as a printed book—once it’s published, its contents are set in stone (immutable). You can read it, use it, or even reference it, but you can’t change the text inside. Tuples are fixed"
      ],
      "metadata": {
        "id": "7d-l7mKfLt2Y"
      }
    },
    {
      "cell_type": "markdown",
      "source": [
        "**Q**.7 What is the difference between “==” and “is” operators in Python?\n",
        "**Ans** - == (Equality Operator): This is like checking if two things look the same. It compares the values of two objects.\n",
        "is (Identity Operator): This goes a step deeper. It checks if two things are literally the exact same object in memory."
      ],
      "metadata": {
        "id": "Br3gM4o3MZJt"
      }
    },
    {
      "cell_type": "markdown",
      "source": [
        "**Q**.8 What are logical operators in Python?\n",
        "**Ans** - Logical operators in Python are like decision-making helpers that let you combine conditions and check if they’re true or false.\n",
        "and: This one means “both conditions must be true.”\n",
        "or: This means “either condition can be true.”\n",
        "not: This flips the result of a condition."
      ],
      "metadata": {
        "id": "ePANrIF6NZD_"
      }
    },
    {
      "cell_type": "markdown",
      "source": [
        "**Q**.9 What is type casting in Python?\n",
        "**Ans** - Type casting, also referred to as type conversion, is the process of changing one data type to another in Python. Type casting is often necessary for performing arithmetic operations, data manipulation, and input/output operations in python programs."
      ],
      "metadata": {
        "id": "Bqvcie2iOUg-"
      }
    },
    {
      "cell_type": "markdown",
      "source": [
        "**Q**.10 What is the difference between implicit and explicit type casting?\n",
        "**Ans** - Implicit Type Casting (Automatic): Python does this for you automatically. It’s like the blender magically knowing how to turn your juice into a smoothie without you having to press a button.\n",
        "Explicit Type Casting (Manual): Here, you’re in control, and you tell Python exactly what you want to do. It’s like you manually adding yogurt and blending your own smoothie just the way you like it."
      ],
      "metadata": {
        "id": "VB5CVVfNPREO"
      }
    },
    {
      "cell_type": "markdown",
      "source": [
        "**Q**.11 What is the purpose of conditional statements in Python?\n",
        "**Ans** - Conditional statements in Python are like decision-makers in your code. They let your program think and act based on certain conditions. Imagine you're deciding whether to take an umbrella. If it's raining, you grab the umbrella; otherwise, you don't. Conditional statements work the same way—they check whether a condition is true or false and then choose what action to take."
      ],
      "metadata": {
        "id": "5D6tdbE5PuiH"
      }
    },
    {
      "cell_type": "markdown",
      "source": [
        "**Q**.12 How does the elif statement work?\n",
        "**Ans** - The elif statement in Python is like giving your program more choices. Think of it as saying, “If the first condition isn’t true, check the next one.” It’s short for “else if,” and it helps your code handle multiple possibilities without writing a bunch of separate if statements.\n",
        "\n",
        "weather = \"cold\"\n",
        "if weather == \"sunny\":\n",
        "    print(\"Wear sunglasses!\")\n",
        "elif weather == \"raining\":\n",
        "    print(\"Take an umbrella!\")\n",
        "elif weather == \"cold\":\n",
        "    print(\"Grab a jacket!\")\n",
        "else:\n",
        "    print(\"Just wear regular clothes.\")\n"
      ],
      "metadata": {
        "id": "-Gu18DZbSG3F"
      }
    },
    {
      "cell_type": "markdown",
      "source": [
        "**Q**.13 What is the difference between for and while loops?\n",
        "**Ans** - \"for\" loop are used for iterating over sequence of elements, while \"while\" loops are used for executing code until a specified condition becomes false."
      ],
      "metadata": {
        "id": "BdneP7GAS2sT"
      }
    },
    {
      "cell_type": "markdown",
      "source": [
        "**Q**.14 Describe a scenario where a while loop is more suitable than a for loop?\n",
        "**Ans** - A while loop is more suitable when you need to keep repeating an action until a specific condition is met, and you don’t know in advance how many repetitions will be needed.\n",
        "A for loop wouldn’t work well because it’s designed for a fixed number of repetitions, and here, the number of attempts is unpredictable."
      ],
      "metadata": {
        "id": "b5KAtlMbTohk"
      }
    },
    {
      "cell_type": "markdown",
      "source": [
        "# **Practical Question**s"
      ],
      "metadata": {
        "id": "sT4CrSImVHCT"
      }
    },
    {
      "cell_type": "code",
      "source": [
        "#Write a Python program to print \"Hello, World!\n",
        "print(\"Hello World\")"
      ],
      "metadata": {
        "colab": {
          "base_uri": "https://localhost:8080/"
        },
        "id": "84Y1gAojWGdK",
        "outputId": "6f925a5c-0c4c-4053-d32f-739cb435847f"
      },
      "execution_count": 3,
      "outputs": [
        {
          "output_type": "stream",
          "name": "stdout",
          "text": [
            "Hello World\n"
          ]
        }
      ]
    },
    {
      "cell_type": "code",
      "source": [
        "#Write a Python program that displays your name and age.\n",
        "#Name = Aashish Kumar\n",
        "#Age = 20\n",
        "print(\"My name is Aashish\")\n",
        "print(\"My age is 20\")"
      ],
      "metadata": {
        "colab": {
          "base_uri": "https://localhost:8080/"
        },
        "id": "EoMPeqLEWRB_",
        "outputId": "402968c4-95b5-415e-8112-864920281d09"
      },
      "execution_count": 4,
      "outputs": [
        {
          "output_type": "stream",
          "name": "stdout",
          "text": [
            "My name is Aashish\n",
            "My age is 20\n"
          ]
        }
      ]
    },
    {
      "cell_type": "code",
      "source": [
        "#Write code to print all the pre-defined keywords in Python using the keyword library\n",
        "help('keywords')"
      ],
      "metadata": {
        "colab": {
          "base_uri": "https://localhost:8080/"
        },
        "id": "JD-CqwcZWz62",
        "outputId": "09cf9aca-6534-4252-af58-73d5bfe833e6"
      },
      "execution_count": 5,
      "outputs": [
        {
          "output_type": "stream",
          "name": "stdout",
          "text": [
            "\n",
            "Here is a list of the Python keywords.  Enter any keyword to get more help.\n",
            "\n",
            "False               class               from                or\n",
            "None                continue            global              pass\n",
            "True                def                 if                  raise\n",
            "and                 del                 import              return\n",
            "as                  elif                in                  try\n",
            "assert              else                is                  while\n",
            "async               except              lambda              with\n",
            "await               finally             nonlocal            yield\n",
            "break               for                 not                 \n",
            "\n"
          ]
        }
      ]
    },
    {
      "cell_type": "code",
      "source": [
        "#Write a program that checks if a given word is a Python keyword\n",
        "import keyword\n",
        "word = input(\"Data Science:\")\n",
        "if keyword.iskeyword(word):\n",
        "    print(f\"'{word}' is a Python keyword.\")\n",
        "else:\n",
        "    print(f\"'{word}' is not a Python keyword.\")\n"
      ],
      "metadata": {
        "colab": {
          "base_uri": "https://localhost:8080/"
        },
        "id": "TbgyPXmCYoCv",
        "outputId": "f51045b9-fb82-4557-a73b-598dd217ef22"
      },
      "execution_count": 6,
      "outputs": [
        {
          "output_type": "stream",
          "name": "stdout",
          "text": [
            "Data Science:iskeyword\n",
            "'iskeyword' is not a Python keyword.\n"
          ]
        }
      ]
    },
    {
      "cell_type": "code",
      "source": [
        " #Create a list and tuple in Python, and demonstrate how attempting to change an element works differently for each.\n",
        "my_list = [20, 30, 40]\n",
        "my_tuple = (50, 70, 90)\n",
        "\n",
        "# Modify an element in the list\n",
        "my_list[1] = 99  # Changing the second element\n",
        "print(\"Modified list:\", my_list)\n",
        "\n",
        "# Attempt to modify an element in the tuple\n",
        "try:\n",
        "    my_tuple[1] = 99  # This will cause an error\n",
        "except TypeError as e:\n",
        "    print(\"Error:\", e)\n"
      ],
      "metadata": {
        "colab": {
          "base_uri": "https://localhost:8080/"
        },
        "id": "9cNjOwG3ZqMR",
        "outputId": "63a7db28-a63b-4663-cb17-6ba004169208"
      },
      "execution_count": 8,
      "outputs": [
        {
          "output_type": "stream",
          "name": "stdout",
          "text": [
            "Modified list: [20, 99, 40]\n",
            "Error: 'tuple' object does not support item assignment\n"
          ]
        }
      ]
    },
    {
      "cell_type": "code",
      "source": [
        "#Write a function to demonstrate the behavior of mutable and immutable arguments.\n",
        "def modify_arguments(mutable, immutable):\n",
        "    # Change the mutable argument (list)\n",
        "    mutable.append(5)\n",
        "\n",
        "    immutable += 1\n",
        "\n",
        "    print(\"Inside function - Mutable:\", mutable)\n",
        "    print(\"Inside function - Immutable:\", immutable)\n",
        "\n",
        "my_list = [1, 2, 3]\n",
        "my_number = 10\n",
        "\n",
        "modify_arguments(my_list, my_number)\n",
        "\n",
        "print(\"Outside function - Mutable:\", my_list)\n",
        "print(\"Outside function - Immutable:\", my_number)\n"
      ],
      "metadata": {
        "colab": {
          "base_uri": "https://localhost:8080/"
        },
        "id": "uWgYMc3XbJ_b",
        "outputId": "e4a5a330-8510-4494-b2c4-19e25b018b53"
      },
      "execution_count": 9,
      "outputs": [
        {
          "output_type": "stream",
          "name": "stdout",
          "text": [
            "Inside function - Mutable: [1, 2, 3, 5]\n",
            "Inside function - Immutable: 11\n",
            "Outside function - Mutable: [1, 2, 3, 5]\n",
            "Outside function - Immutable: 10\n"
          ]
        }
      ]
    },
    {
      "cell_type": "code",
      "source": [
        "# Write a program that performs basic arithmetic operations on two user-input numbers.\n",
        "num1 = float(input(\"Enter the first number: \"))\n",
        "num2 = float(input(\"Enter the second number: \"))\n",
        "\n",
        "addition = num1 + num2\n",
        "subtraction = num1 - num2\n",
        "multiplication = num1 * num2\n",
        "\n",
        "if num2 != 0:\n",
        "    division = num1 / num2\n",
        "else:\n",
        "    division = \"Undefined (cannot divide by zero)\"\n",
        "\n",
        "print(\"Addition:\", addition)\n",
        "print(\"Subtraction:\", subtraction)\n",
        "print(\"Multiplication:\", multiplication)\n",
        "print(\"Division:\", division)\n"
      ],
      "metadata": {
        "colab": {
          "base_uri": "https://localhost:8080/"
        },
        "id": "P6Jy46f2b5mg",
        "outputId": "1c362a90-2ad4-4330-92e8-aada47fba6de"
      },
      "execution_count": 10,
      "outputs": [
        {
          "output_type": "stream",
          "name": "stdout",
          "text": [
            "Enter the first number: 10\n",
            "Enter the second number: 20\n",
            "Addition: 30.0\n",
            "Subtraction: -10.0\n",
            "Multiplication: 200.0\n",
            "Division: 0.5\n"
          ]
        }
      ]
    },
    {
      "cell_type": "code",
      "source": [
        "#Write a program to demonstrate the use of logical operators.\n",
        "\n",
        "num1 = int(input(\"Enter the first number: \"))\n",
        "num2 = int(input(\"Enter the second number: \"))\n",
        "\n",
        "if num1 > 0 and num2 > 0:\n",
        "    print(\"Both numbers are positive.\")\n",
        "\n",
        "if num1 < 0 or num2 < 0:\n",
        "    print(\"At least one number is negative.\")\n",
        "\n",
        "if not (num1 == num2):\n",
        "    print(\"The two numbers are not equal.\")\n",
        "else:\n",
        "    print(\"The two numbers are equal.\")\n"
      ],
      "metadata": {
        "colab": {
          "base_uri": "https://localhost:8080/"
        },
        "id": "Yjipd4YxcfAW",
        "outputId": "a27e9dbc-7abd-4ecf-9000-fe7286f743a9"
      },
      "execution_count": 11,
      "outputs": [
        {
          "output_type": "stream",
          "name": "stdout",
          "text": [
            "Enter the first number: 10\n",
            "Enter the second number: 80\n",
            "Both numbers are positive.\n",
            "The two numbers are not equal.\n"
          ]
        }
      ]
    },
    {
      "cell_type": "code",
      "source": [
        "#Write a Python program to convert user input from string to integer, float, and boolean types.\n",
        "user_input = input(\"Enter something: \")\n",
        "\n",
        "try:\n",
        "    int_value = int(user_input)\n",
        "    print(\"Converted to integer:\", int_value)\n",
        "except ValueError:\n",
        "    print(\"Cannot convert to integer.\")\n",
        "\n",
        "try:\n",
        "    float_value = float(user_input)\n",
        "    print(\"Converted to float:\", float_value)\n",
        "except ValueError:\n",
        "    print(\"Cannot convert to float.\")\n",
        "\n",
        "bool_value = bool(user_input)\n",
        "print(\"Converted to boolean:\", bool_value)\n"
      ],
      "metadata": {
        "colab": {
          "base_uri": "https://localhost:8080/"
        },
        "id": "_zt7-x2vc7aH",
        "outputId": "ad762a5e-2330-4bf5-ab3b-a1462c78cd8e"
      },
      "execution_count": 12,
      "outputs": [
        {
          "output_type": "stream",
          "name": "stdout",
          "text": [
            "Enter something: aashish\n",
            "Cannot convert to integer.\n",
            "Cannot convert to float.\n",
            "Converted to boolean: True\n"
          ]
        }
      ]
    },
    {
      "cell_type": "code",
      "source": [
        "#Write code to demonstrate type casting with list elements.\n",
        "data = [\"10\", \"20.5\", \"True\", \"45\"]\n",
        "\n",
        "int_cast = []\n",
        "for item in data:\n",
        "    if item.isdigit():\n",
        "        int_cast.append(int(item))\n",
        "\n",
        "float_cast = []\n",
        "for item in data:\n",
        "    try:\n",
        "        float_cast.append(float(item))\n",
        "    except ValueError:\n",
        "        continue\n",
        "\n",
        "bool_cast = [bool(item) for item in data]\n",
        "\n",
        "\n",
        "print(\"Original List:\", data)\n",
        "print(\"Integer Cast:\", int_cast)\n",
        "print(\"Float Cast:\", float_cast)\n",
        "print(\"Boolean Cast:\", bool_cast)\n"
      ],
      "metadata": {
        "colab": {
          "base_uri": "https://localhost:8080/"
        },
        "id": "ZrD3mFeSj9El",
        "outputId": "bdb83cf9-44a2-42fc-e169-328f3881907e"
      },
      "execution_count": 15,
      "outputs": [
        {
          "output_type": "stream",
          "name": "stdout",
          "text": [
            "Original List: ['10', '20.5', 'True', '45']\n",
            "Integer Cast: [10, 45]\n",
            "Float Cast: [10.0, 20.5, 45.0]\n",
            "Boolean Cast: [True, True, True, True]\n"
          ]
        }
      ]
    },
    {
      "cell_type": "code",
      "source": [
        "# Write a program that checks if a number is positive, negative, or zero.\n",
        "number = float(input(\"Enter a number: \"))\n",
        "\n",
        "if number > 0:\n",
        "    print(\"The number is positive.\")\n",
        "elif number < 0:\n",
        "    print(\"The number is negative.\")\n",
        "else:\n",
        "    print(\"The number is zero.\")\n"
      ],
      "metadata": {
        "colab": {
          "base_uri": "https://localhost:8080/"
        },
        "id": "2bOEdML4kVjs",
        "outputId": "8508fccb-11e3-49ef-da3e-f661040b067b"
      },
      "execution_count": 16,
      "outputs": [
        {
          "output_type": "stream",
          "name": "stdout",
          "text": [
            "Enter a number: 10.6\n",
            "The number is positive.\n"
          ]
        }
      ]
    },
    {
      "cell_type": "code",
      "source": [
        "# Write a for loop to print numbers from 1 to 10.\n",
        "for number in range(1, 11):\n",
        "    print(number)\n"
      ],
      "metadata": {
        "colab": {
          "base_uri": "https://localhost:8080/"
        },
        "id": "jbc__UlKkl2E",
        "outputId": "20b4bb8e-7f24-41a9-8fdd-bc99acd919c9"
      },
      "execution_count": 21,
      "outputs": [
        {
          "output_type": "stream",
          "name": "stdout",
          "text": [
            "1\n",
            "2\n",
            "3\n",
            "4\n",
            "5\n",
            "6\n",
            "7\n",
            "8\n",
            "9\n",
            "10\n"
          ]
        }
      ]
    },
    {
      "cell_type": "code",
      "source": [
        "# Write a Python program to find the sum of all even numbers between 1 and 50.\n",
        "total_sum = 0\n",
        "\n",
        "for number in range(1, 51):\n",
        "    if number % 2 == 0:\n",
        "        total_sum += number\n",
        "\n",
        "print(\"The sum of all even numbers between 1 and 50 is:\", total_sum)\n"
      ],
      "metadata": {
        "colab": {
          "base_uri": "https://localhost:8080/"
        },
        "id": "dO-Dk7nDlDfU",
        "outputId": "b5ea2689-cad2-423a-eda2-4855ca761cbf"
      },
      "execution_count": 22,
      "outputs": [
        {
          "output_type": "stream",
          "name": "stdout",
          "text": [
            "The sum of all even numbers between 1 and 50 is: 650\n"
          ]
        }
      ]
    },
    {
      "cell_type": "code",
      "source": [
        "# Write a program to reverse a string using a while loop.\n",
        "original_string = input(\"Enter a string to reverse: \")\n",
        "\n",
        "reversed_string = \"\"\n",
        "index = len(original_string) - 1\n",
        "\n",
        "while index >= 0:\n",
        "    reversed_string += original_string[index]\n",
        "    index -= 1\n",
        "\n",
        "print(\"Reversed string:\", reversed_string)\n"
      ],
      "metadata": {
        "colab": {
          "base_uri": "https://localhost:8080/"
        },
        "id": "uXFMk4pMlc3o",
        "outputId": "7dc22dda-19a1-483a-e2bd-e992a786b7a2"
      },
      "execution_count": 23,
      "outputs": [
        {
          "output_type": "stream",
          "name": "stdout",
          "text": [
            "Enter a string to reverse: Copied from Copilot\n",
            "Reversed string: tolipoC morf deipoC\n"
          ]
        }
      ]
    },
    {
      "cell_type": "code",
      "source": [
        "# Write a Python program to calculate the factorial of a number provided by the user using a while loop.\n",
        "num = int(input(\"Enter a number to calculate its factorial: \"))\n",
        "\n",
        "factorial = 1\n",
        "current = num\n",
        "\n",
        "while current > 0:\n",
        "    factorial *= current\n",
        "    current -= 1\n",
        "\n",
        "print(f\"The factorial of {num} is: {factorial}\")\n"
      ],
      "metadata": {
        "colab": {
          "base_uri": "https://localhost:8080/"
        },
        "id": "PElq3V5zmAeK",
        "outputId": "b32b1caa-b517-4c3b-a3b5-2171e9352069"
      },
      "execution_count": 24,
      "outputs": [
        {
          "output_type": "stream",
          "name": "stdout",
          "text": [
            "Enter a number to calculate its factorial: 69\n",
            "The factorial of 69 is: 171122452428141311372468338881272839092270544893520369393648040923257279754140647424000000000000000\n"
          ]
        }
      ]
    }
  ]
}